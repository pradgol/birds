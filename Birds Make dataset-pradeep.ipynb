{
 "cells": [
  {
   "cell_type": "code",
   "execution_count": 1,
   "metadata": {
    "collapsed": true
   },
   "outputs": [],
   "source": [
    "import os\n",
    "import random\n",
    "import glob\n",
    "from shutil import copyfile"
   ]
  },
  {
   "cell_type": "code",
   "execution_count": 3,
   "metadata": {},
   "outputs": [
    {
     "data": {
      "text/plain": [
       "'/Users/pradeep/Workingdirectory/birds-master'"
      ]
     },
     "execution_count": 3,
     "metadata": {},
     "output_type": "execute_result"
    }
   ],
   "source": [
    "%pwd"
   ]
  },
  {
   "cell_type": "code",
   "execution_count": 4,
   "metadata": {},
   "outputs": [],
   "source": [
    "train_per = 90\n",
    "test_per = 10\n",
    "#Ignoring STRUTHIONIFORMES,  TROCHILIFORMES, CRACIIFORMES\n",
    "#f = open('./image_db/image_list.txt','r')   \n",
    "groups = ['anseriformes', 'apodiformes', 'bucerotiformes', \n",
    "          'ciconiiformes', 'columbiformes', 'coraciiformes', \n",
    "          'cuculiformes', 'galliformes', 'gruiformes',\n",
    "          'passeriformes', 'piciformes', 'psittaciformes',\n",
    "          'strigiformes', 'trogoniformes', 'turniciformes', 'upupiformes']"
   ]
  },
  {
   "cell_type": "code",
   "execution_count": 7,
   "metadata": {},
   "outputs": [],
   "source": [
    "#Update these for your system\n",
    "in_dir = '/Users/pradeep/Workingdirectory/birds-master/image_db'\n",
    "out_dir = '/Users/pradeep/Workingdirectory/birds-master/OBI_Dataset'\n",
    "out_train = '/Users/pradeep/Workingdirectory/birds-master/OBI_Dataset/train'\n",
    "out_test = '/Users/pradeep/Workingdirectory/birds-master/OBI_Dataset/test'\n",
    "if not os.path.isdir(out_dir):\n",
    "    os.mkdir(out_dir)\n",
    "if not os.path.isdir(out_train):\n",
    "    os.mkdir(out_train)\n",
    "if not os.path.isdir(out_test):\n",
    "    os.mkdir(out_test)"
   ]
  },
  {
   "cell_type": "code",
   "execution_count": 8,
   "metadata": {
    "collapsed": true
   },
   "outputs": [],
   "source": [
    "x = [i for i in range(10)]\n",
    "random.shuffle(x)"
   ]
  },
  {
   "cell_type": "code",
   "execution_count": 9,
   "metadata": {
    "collapsed": true
   },
   "outputs": [],
   "source": [
    "for group in groups:\n",
    "    list = glob.glob(in_dir+\"/\"+group+\"/*/*/*.jpg\", recursive=True)\n",
    "    n = len(list)\n",
    "    train_size = int(n*train_per/100)\n",
    "    test_size =  int(n*test_per/100)\n",
    "    #shuffle data\n",
    "    random.shuffle(list)\n",
    "    #check & make group train and test dirs\n",
    "    if not os.path.isdir(out_train+\"/\"+group):\n",
    "        os.mkdir(out_train+\"/\"+group)\n",
    "    if not os.path.isdir(out_test+\"/\"+group):\n",
    "        os.mkdir(out_test+\"/\"+group)\n",
    "    #copy the data into out_dir\n",
    "    for i in range(n):\n",
    "        src = list[i]      \n",
    "        if i <= train_size:\n",
    "            dst = out_train+\"/\"+group+\"/\"+''.join(j for j in list[i].split('/')[-2::])\n",
    "            copyfile(src, dst)\n",
    "        else:\n",
    "            dst = out_test+\"/\"+group+\"/\"+''.join(j for j in list[i].split('/')[-2::])\n",
    "            copyfile(src, dst)"
   ]
  },
  {
   "cell_type": "code",
   "execution_count": null,
   "metadata": {
    "collapsed": true
   },
   "outputs": [],
   "source": []
  }
 ],
 "metadata": {
  "kernelspec": {
   "display_name": "Python 3",
   "language": "python",
   "name": "python3"
  },
  "language_info": {
   "codemirror_mode": {
    "name": "ipython",
    "version": 3
   },
   "file_extension": ".py",
   "mimetype": "text/x-python",
   "name": "python",
   "nbconvert_exporter": "python",
   "pygments_lexer": "ipython3",
   "version": "3.6.3"
  }
 },
 "nbformat": 4,
 "nbformat_minor": 2
}
